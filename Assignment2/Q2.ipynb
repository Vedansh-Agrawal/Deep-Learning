{
 "cells": [
  {
   "cell_type": "markdown",
   "metadata": {},
   "source": [
    "# Deep Learning\n",
    "\n",
    "## Assignment 2\n",
    "\n",
    "### Question 2:\n",
    "### Learning Long Term Dependencies"
   ]
  },
  {
   "cell_type": "markdown",
   "metadata": {},
   "source": [
    "This part of the assignment looks into the long term dependencies. We need to start by making the the training sets that we will use to train the model. "
   ]
  },
  {
   "cell_type": "code",
   "execution_count": 1,
   "metadata": {},
   "outputs": [
    {
     "name": "stderr",
     "output_type": "stream",
     "text": [
      "/usr/lib/python3/dist-packages/requests/__init__.py:89: RequestsDependencyWarning: urllib3 (2.0.6) or chardet (3.0.4) doesn't match a supported version!\n",
      "  warnings.warn(\"urllib3 ({}) or chardet ({}) doesn't match a supported \"\n"
     ]
    }
   ],
   "source": [
    "import numpy as np\n",
    "import pandas as pd\n",
    "import matplotlib.pyplot as plt\n",
    "import torch\n",
    "import torch.nn as nn\n",
    "from tqdm import tqdm\n",
    "import sklearn\n",
    "from torchmetrics.regression import R2Score\n",
    "\n",
    "p = 100"
   ]
  },
  {
   "cell_type": "code",
   "execution_count": 2,
   "metadata": {},
   "outputs": [],
   "source": [
    "def gen_samples(p):\n",
    "    set1 = torch.zeros(p, p+1)\n",
    "    set2 = torch.zeros(p, p+1)\n",
    "\n",
    "    sequence = torch.randint(0, 99, size=(99,))\n",
    "    sequence = torch.sort(sequence)[0]\n",
    "\n",
    "    for i in range(len(sequence)):\n",
    "        set1[i+1, sequence[i]] = 1\n",
    "        set2[i+1, sequence[i]] = 1\n",
    "\n",
    "    set1[0, 99] = 1\n",
    "    set2[0, 100] = 1\n",
    "\n",
    "    return set1, set2\n",
    "    "
   ]
  },
  {
   "cell_type": "markdown",
   "metadata": {},
   "source": [
    "Now that we have made the function which generates our sequences, we can proceed to constructing both the LSTM as well as the RNN models. We will start with a basic structure with just the RNN or LSTM"
   ]
  },
  {
   "cell_type": "code",
   "execution_count": 3,
   "metadata": {},
   "outputs": [],
   "source": [
    "class MyModel(nn.Module):\n",
    "\n",
    "    def __init__(self, input_size, hidden_size, num_layers):\n",
    "        super(MyModel, self).__init__()\n",
    "        self.input_size = input_size\n",
    "        self.hidden_size = hidden_size\n",
    "        self.num_layers = num_layers\n",
    "\n",
    "        self.rnn = nn.RNN(input_size, hidden_size, num_layers, batch_first=True)\n",
    "        self.lstm = nn.LSTM(input_size, hidden_size, num_layers, batch_first = True)\n",
    "\n",
    "        self.linear = nn.Linear(hidden_size, input_size)\n",
    "\n",
    "    def forward(self, x, model):\n",
    "        if model == 'RNN':\n",
    "            if len(x[0]) != 1:\n",
    "                h0 = torch.zeros(self.num_layers, self.hidden_size)\n",
    "                out, _ = self.rnn(x, h0)\n",
    "                out = out[-1, :]\n",
    "                out = self.linear(out)\n",
    "\n",
    "                return out\n",
    "    \n",
    "        \n",
    "        elif model == 'LSTM':\n",
    "            if len(x[0]) != 1:\n",
    "                h0 = torch.zeros(self.num_layers, self.hidden_size)\n",
    "                c0 = torch.zeros(self.num_layers, self.hidden_size)\n",
    "\n",
    "                out, (_, _) = self.lstm(x, (h0, c0))\n",
    "                out = out[-1, :]\n",
    "                out = self.linear(out)\n",
    "\n",
    "                return out\n",
    "        \n",
    "        return self.inference(x, model)\n",
    "\n",
    "    def inference(self, x, model):\n",
    "        if model == 'RNN':\n",
    "            h0 = torch.zeros(self.num_layers, self.hidden_size)\n",
    "\n",
    "            input = x\n",
    "            output_sequence = []\n",
    "\n",
    "            for _ in range(self.input_size):\n",
    "                out, hidden = self.rnn(input, h0)\n",
    "                out = self.linear(out)\n",
    "\n",
    "                output_sequence.append(out)\n",
    "\n",
    "                input = out\n",
    "                h0 = hidden\n",
    "\n",
    "            return torch.tensor(output_sequence[-1]).view(-1,1)\n",
    "\n",
    "        if model == 'LSTM':\n",
    "            h0 = torch.zeros(self.num_layers, self.hidden_size)\n",
    "            c0 = torch.zeros(self.num_layers, self.hidden_size)\n",
    "\n",
    "            input = x\n",
    "            output_sequence = []\n",
    "\n",
    "            for _ in range(self.input_size):\n",
    "                out, (h, c) = self.lstm(input, (h0, c0))\n",
    "                out = self.linear(out)\n",
    "\n",
    "                output_sequence.append(out)\n",
    "\n",
    "                input = out\n",
    "                h0 = h\n",
    "                c0 = c\n",
    "\n",
    "            return torch.tensor(output_sequence[-1]).view(-1, 1)\n",
    "            \n",
    "            "
   ]
  },
  {
   "cell_type": "markdown",
   "metadata": {},
   "source": [
    "Above is the mode, architeture where we have implementd bo the LSTM as well as the RNN. We can now observe how both the models work for predicting the sequences above.The parameters are defined in the code below"
   ]
  },
  {
   "cell_type": "code",
   "execution_count": 5,
   "metadata": {},
   "outputs": [],
   "source": [
    "input_size = p+1\n",
    "hidden_size = 1000\n",
    "num_layers = 2\n",
    "\n",
    "learning_rate = 0.01\n",
    "\n",
    "model1 = MyModel(input_size, hidden_size, num_layers)\n",
    "model2 = MyModel(input_size, hidden_size, num_layers)\n",
    "criterion = nn.CrossEntropyLoss()\n",
    "optimizer1 = torch.optim.Adam(model1.parameters(), lr = learning_rate)\n",
    "optimizer2 = torch.optim.Adam(model2.parameters(), lr = learning_rate)"
   ]
  },
  {
   "cell_type": "code",
   "execution_count": 6,
   "metadata": {},
   "outputs": [],
   "source": [
    "# Generating the training sequences\n",
    "num_samples = 1000\n",
    "set1 = torch.zeros(num_samples, p, p+1)\n",
    "set2 = torch.zeros(num_samples, p, p+1)\n",
    "for i in range(num_samples):\n",
    "    set1[i], set2[i] = gen_samples(p)"
   ]
  },
  {
   "cell_type": "code",
   "execution_count": 7,
   "metadata": {},
   "outputs": [
    {
     "name": "stdout",
     "output_type": "stream",
     "text": [
      "--------RNN TRAINING---------\n"
     ]
    },
    {
     "name": "stderr",
     "output_type": "stream",
     "text": [
      "/home/vedansh/.local/lib/python3.8/site-packages/torch/autograd/__init__.py:200: UserWarning: CUDA initialization: The NVIDIA driver on your system is too old (found version 10010). Please update your GPU driver by downloading and installing a new version from the URL: http://www.nvidia.com/Download/index.aspx Alternatively, go to: https://pytorch.org to install a PyTorch version that has been compiled with your version of the CUDA driver. (Triggered internally at ../c10/cuda/CUDAFunctions.cpp:109.)\n",
      "  Variable._execution_engine.run_backward(  # Calls into the C++ engine to run the backward pass\n"
     ]
    },
    {
     "name": "stdout",
     "output_type": "stream",
     "text": [
      "epoch 100/1000, loss  0.0000, set 0\n",
      "epoch 200/1000, loss  3.1839, set 1\n",
      "epoch 300/1000, loss  0.0006, set 0\n",
      "epoch 400/1000, loss  0.0499, set 1\n",
      "epoch 500/1000, loss  0.1060, set 1\n",
      "epoch 600/1000, loss  7.3417, set 0\n",
      "epoch 700/1000, loss  1.1992, set 1\n",
      "epoch 800/1000, loss  0.0000, set 0\n",
      "epoch 900/1000, loss  30.2083, set 1\n",
      "epoch 1000/1000, loss  3.0837, set 0\n",
      "--------LSTM TRAINING---------\n",
      "epoch 100/1000, loss  0.4256, set 1\n",
      "epoch 200/1000, loss  0.0010, set 1\n",
      "epoch 300/1000, loss  0.0463, set 0\n",
      "epoch 400/1000, loss  0.1420, set 0\n",
      "epoch 500/1000, loss  0.0331, set 0\n",
      "epoch 600/1000, loss  0.0194, set 1\n",
      "epoch 700/1000, loss  0.0533, set 0\n",
      "epoch 800/1000, loss  0.0125, set 0\n",
      "epoch 900/1000, loss  0.0370, set 1\n",
      "epoch 1000/1000, loss  0.0059, set 0\n"
     ]
    }
   ],
   "source": [
    "#Training algorithm for RNN\n",
    "rnn_loss = []\n",
    "lstm_loss = []\n",
    "\n",
    "print('--------RNN TRAINING---------')\n",
    "for i in range(num_samples):\n",
    "    int = torch.randint(0, 2, size=(1,))\n",
    "\n",
    "    if int == 0:\n",
    "        X_train = set1[i]\n",
    "    else:\n",
    "        X_train = set2[i]\n",
    "    Y_train = p+int[0]-1\n",
    "\n",
    "    output = model1(X_train, 'RNN')\n",
    "    output = torch.squeeze(output, dim=0)\n",
    "\n",
    "    loss = criterion(output, Y_train)\n",
    "\n",
    "    optimizer1.zero_grad()\n",
    "    loss.backward()\n",
    "\n",
    "    optimizer1.step()\n",
    "\n",
    "    rnn_loss.append(loss.item())\n",
    "\n",
    "    if (i+1)%100 == 0:\n",
    "        print(f'epoch {i+1}/{num_samples}, loss  {loss.item():.4f}, set {int[0]}')\n",
    "\n",
    "#Training algorithm for LSTM\n",
    "print('--------LSTM TRAINING---------')\n",
    "for i in range(num_samples):\n",
    "    int = torch.randint(0, 2, size=(1,))\n",
    "\n",
    "    if int == 0:\n",
    "        X_train = set1[i]\n",
    "    else:\n",
    "        X_train = set2[i]\n",
    "    Y_train = p+int[0]-1\n",
    "\n",
    "    output = model2(X_train, 'LSTM')\n",
    "    output = torch.squeeze(output, dim=0)\n",
    "\n",
    "    loss = criterion(output, Y_train)\n",
    "\n",
    "    optimizer2.zero_grad()\n",
    "    loss.backward()\n",
    "\n",
    "    optimizer2.step()\n",
    "\n",
    "    lstm_loss.append(loss.item())\n",
    "\n",
    "    if (i+1)%100 == 0:\n",
    "        print(f'epoch {i+1}/{num_samples}, loss  {loss.item():.4f}, set {int[0]}')"
   ]
  },
  {
   "cell_type": "markdown",
   "metadata": {},
   "source": [
    "Now that we have trained our 2 seperate models being the RNN and LSTM respectively let us plot the errors with the epochs"
   ]
  },
  {
   "cell_type": "code",
   "execution_count": 8,
   "metadata": {},
   "outputs": [
    {
     "data": {
      "image/png": "[encoded data removed]",
      "text/plain": [
       "<Figure size 640x480 with 1 Axes>"
      ]
     },
     "metadata": {},
     "output_type": "display_data"
    }
   ],
   "source": [
    "plt.plot(range(num_samples), rnn_loss, label = 'RNN')\n",
    "plt.plot(range(num_samples), lstm_loss, label='LSTM')\n",
    "plt.xlabel('number of samples')\n",
    "plt.ylabel('Loss')\n",
    "plt.title('Loss vs number of samples')\n",
    "plt.legend()\n",
    "plt.show()"
   ]
  },
  {
   "cell_type": "markdown",
   "metadata": {},
   "source": [
    "As we can see, the lstm model learnt the dependency and has understood that the output is to be the same as the input symbol to the sequence. Meanwhile, RNNs are not able to learn this dependancy and fail to recognise the actual output of the sequence."
   ]
  },
  {
   "cell_type": "code",
   "execution_count": 9,
   "metadata": {},
   "outputs": [
    {
     "name": "stdout",
     "output_type": "stream",
     "text": [
      "Trial 1/10, Average correct for RNN: 0.0/3000, Average correct for lstm: 0.0/3000\n",
      "Trial 2/10, Average correct for RNN: 0.0/3000, Average correct for lstm: 0.0/3000\n",
      "Trial 3/10, Average correct for RNN: 0.0/3000, Average correct for lstm: 0.0/3000\n",
      "Trial 4/10, Average correct for RNN: 0.0/3000, Average correct for lstm: 0.0/3000\n",
      "Trial 5/10, Average correct for RNN: 0.0/3000, Average correct for lstm: 0.0/3000\n",
      "Trial 6/10, Average correct for RNN: 0.0/3000, Average correct for lstm: 0.0/3000\n",
      "Trial 7/10, Average correct for RNN: 0.0/3000, Average correct for lstm: 0.0/3000\n",
      "Trial 8/10, Average correct for RNN: 0.0/3000, Average correct for lstm: 0.0/3000\n",
      "Trial 9/10, Average correct for RNN: 0.0/3000, Average correct for lstm: 0.0/3000\n",
      "Trial 10/10, Average correct for RNN: 0.0/3000, Average correct for lstm: 0.0/3000\n"
     ]
    }
   ],
   "source": [
    "with torch.no_grad():\n",
    "\n",
    "    for k in range(10):\n",
    "        num_test = 3000\n",
    "        set1 = torch.zeros(num_test, p, p+1)\n",
    "        set2 = torch.zeros(num_test, p, p+1)\n",
    "        for i in range(num_test):\n",
    "            set1[i], set2[i] = gen_samples(p)\n",
    "\n",
    "        num_correct_rnn = 0.0\n",
    "        num_correct_lstm = 0.0\n",
    "        for i in range(num_test):\n",
    "            \n",
    "            output_rnn = model1(set1[i][0].view(1, -1), 'RNN')\n",
    "            output_lstm = model2(set1[i][0].view(1, -1), 'LSTM')\n",
    "            \n",
    "            _, predictions_rnn = torch.max(output_rnn, 0)\n",
    "            num_correct_rnn += 1 if predictions_rnn==99 else 0\n",
    "\n",
    "            _, predictions_lstm = torch.max(output_lstm, 0)\n",
    "            num_correct_lstm += 1 if predictions_lstm==99 else 0\n",
    "\n",
    "        print(f'Trial {k+1}/10, Average correct for RNN: {num_correct_rnn}/3000, Average correct for lstm: {num_correct_lstm}/3000')\n",
    "\n"
   ]
  },
  {
   "cell_type": "code",
   "execution_count": null,
   "metadata": {},
   "outputs": [],
   "source": []
  }
 ],
 "metadata": {
  "interpreter": {
   "hash": "916dbcbb3f70747c44a77c7bcd40155683ae19c65e1c03b4aa3499c5328201f1"
  },
  "kernelspec": {
   "display_name": "Python 3.8.10 64-bit",
   "language": "python",
   "name": "python3"
  },
  "language_info": {
   "codemirror_mode": {
    "name": "ipython",
    "version": 3
   },
   "file_extension": ".py",
   "mimetype": "text/x-python",
   "name": "python",
   "nbconvert_exporter": "python",
   "pygments_lexer": "ipython3",
   "version": "3.8.10"
  },
  "orig_nbformat": 4
 },
 "nbformat": 4,
 "nbformat_minor": 2
}
